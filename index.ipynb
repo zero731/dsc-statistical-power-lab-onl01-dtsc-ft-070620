{
 "cells": [
  {
   "cell_type": "markdown",
   "metadata": {},
   "source": [
    "# Statistical Power - Lab\n",
    "\n",
    "## Introduction\n",
    "\n",
    "\n",
    "In this lesson, you'll practice doing a power-analysis during experimental design. As you've seen, power analysis allows you to determine the sample size required to detect an effect of a given size with a given degree of confidence. In other words, it allows you to determine the probability of detecting an effect of a given size with a given level of confidence, under-sample size constraints.\n",
    "\n",
    "The following four factors have an intimate relationship:\n",
    "\n",
    "* Sample size\n",
    "* Effect size\n",
    "* Significance level = P (Type I error) = probability of finding an effect that is not there\n",
    "* **Power = 1 - P (Type II error)** = probability of finding an effect that is there\n",
    "\n",
    "Given any three of these, we can easily determine the fourth.\n",
    "\n",
    "## Objectives\n",
    "\n",
    "In this lab you will: \n",
    "\n",
    "- Describe the impact of sample size and effect size on power \n",
    "- Perform power calculation using SciPy and Python \n",
    "- Demonstrate the combined effect of sample size and effect size on statistical power using simulations\n",
    "\n",
    "## Let's get started!\n",
    "  \n",
    "To start, let's import the necessary libraries required for this simulation: "
   ]
  },
  {
   "cell_type": "code",
   "execution_count": 47,
   "metadata": {},
   "outputs": [],
   "source": [
    "import numpy as np\n",
    "import scipy.stats as stats\n",
    "import pandas as pd\n",
    "import matplotlib.pyplot as plt\n",
    "import seaborn as sns\n",
    "sns.set_style('darkgrid')"
   ]
  },
  {
   "cell_type": "markdown",
   "metadata": {},
   "source": [
    "## Scenario\n",
    "\n",
    "A researcher wants to study how daily protein supplementation in the elderly population will affect baseline liver fat. The study budget will allow enrollment of 24 patients. Half will be randomized to a placebo group and half to the protein supplement treatment group and the trial will be carried out over one month. It is desired to see whether the mean change in percentage of liver fat from baseline to the end of the study differs between the two groups in the study. \n",
    "\n",
    "With this, the researcher writes the null hypothesis: \n",
    "\n",
    "    There is no difference between experimental and control group mean change in percentage of liver fat \n",
    "    \n",
    "$$\\mu_{1} = \\mu_{2}$$\n",
    "  \n",
    "And the alternative Hypothesis:\n",
    "\n",
    "    There is a difference between experimental and control group mean change in percentage of liver fat \n",
    "\n",
    "$$\\mu_{1} \\neq \\mu_{2}$$\n",
    "    \n",
    "  \n",
    "\n",
    "The researcher needs to know what power  will be obtained under the sample size restrictions to identify a change in mean percent liver fat of 0.17. Based on past results, a common standard deviation of 0.21 will be used for each treatment group in the power analysis. \n",
    "\n",
    "To determine the practicality of this experimental design, you'll run a power analysis simulation: "
   ]
  },
  {
   "cell_type": "code",
   "execution_count": 48,
   "metadata": {},
   "outputs": [],
   "source": [
    "# Number of patients in each group\n",
    "sample_size = 12\n",
    "\n",
    "# Control group\n",
    "control_mean = 0\n",
    "control_sd = 0.21\n",
    "\n",
    "# Experimental group\n",
    "experimental_mean = 0.17\n",
    "experimental_sd = 0.21\n",
    "\n",
    "# Set the number of simulations for our test = 1000\n",
    "n_sim = 1000"
   ]
  },
  {
   "cell_type": "markdown",
   "metadata": {},
   "source": [
    "You can now start running simulations to run an independent t-test with above data and store the calculated p-value in our `p` array. Perform following tasks: \n",
    "\n",
    "* Initialize a numpy array and fill it with `NaN` values for storing the results (p_value) of the independent t-test  \n",
    "* For a defined number of simulations (i.e., 1000), do the following:\n",
    "\n",
    "    * Generate a random normal variable with control mean and sd\n",
    "    * Generate a random normal variable with experimental mean and sd\n",
    "    * Run and independent t-test using control and experimental data\n",
    "    * Store the p value for each test\n",
    "\n",
    "* Calculate the total number and overall proportion of simulations where the null hypothesis is rejected\n"
   ]
  },
  {
   "cell_type": "code",
   "execution_count": 49,
   "metadata": {},
   "outputs": [
    {
     "data": {
      "text/plain": [
       "0.495"
      ]
     },
     "execution_count": 49,
     "metadata": {},
     "output_type": "execute_result"
    }
   ],
   "source": [
    "# For reproducibility \n",
    "np.random.seed(10)\n",
    "\n",
    "# Initialize array to store results\n",
    "p = (np.empty(n_sim))\n",
    "p.fill(np.nan)\n",
    "\n",
    "#  Run a for loop for range of values in n_sim\n",
    "for s in range(n_sim):\n",
    "    ctrl = np.random.normal(loc=control_mean, scale=control_sd, size=sample_size)\n",
    "    expr = np.random.normal(loc=experimental_mean, scale=experimental_sd, size=sample_size)\n",
    "\n",
    "    res = stats.ttest_ind(ctrl, expr)\n",
    "    \n",
    "    p[s] = res[1]\n",
    "    \n",
    "# number of null hypothesis rejections\n",
    "num_null_rejects = sum(p < 0.05)\n",
    "power = num_null_rejects / n_sim\n",
    "\n",
    "power\n",
    "\n",
    "# 0.495"
   ]
  },
  {
   "cell_type": "markdown",
   "metadata": {},
   "source": [
    "These results indicate that using 12 participants in each group and with given statistics, the statistical power of the experiment is 49%. This can be interpreted as follows:\n",
    "\n",
    "> **If a large effect (0.17 or greater) is truly present between control and experimental groups, then the null hypothesis (i.e. no difference with alpha 0.05) would be rejected 49% of the time. **"
   ]
  },
  {
   "cell_type": "markdown",
   "metadata": {},
   "source": [
    "## Sample size requirements for a given effect size\n",
    "\n",
    "Often in behavioral research 0.8 is accepted as a sufficient level of power.  \n",
    "\n",
    "Clearly, this is not the case for the experiment as currently designed. Determine the required sample size in order to identify a difference of 0.17 or greater between the group means with an 80% power."
   ]
  },
  {
   "cell_type": "code",
   "execution_count": 50,
   "metadata": {},
   "outputs": [],
   "source": [
    "# Required power\n",
    "target = 0.8"
   ]
  },
  {
   "cell_type": "code",
   "execution_count": 51,
   "metadata": {},
   "outputs": [],
   "source": [
    "from statsmodels.stats.power import TTestIndPower\n",
    "power_analysis = TTestIndPower()"
   ]
  },
  {
   "cell_type": "code",
   "execution_count": 52,
   "metadata": {},
   "outputs": [
    {
     "data": {
      "text/plain": [
       "24.951708908275144"
      ]
     },
     "execution_count": 52,
     "metadata": {},
     "output_type": "execute_result"
    }
   ],
   "source": [
    "# Determine the sample size\n",
    "power_analysis.solve_power(effect_size=0.17/0.21, power=target, alpha=0.05)"
   ]
  },
  {
   "cell_type": "code",
   "execution_count": 53,
   "metadata": {},
   "outputs": [],
   "source": [
    "# Minimum sample size to start the simulations \n",
    "sample_size = 12\n",
    "null_rejected = 0\n",
    "n_sim = 10000"
   ]
  },
  {
   "cell_type": "markdown",
   "metadata": {},
   "source": [
    "As above, perform the following\n",
    "\n",
    "* Initialize an empty array for storing results\n",
    "* initialize a list for storing sample size x power summary\n",
    "* While current power is less than the target power\n",
    "    * Generate distributions for control and experimental groups using given statistics (as before)\n",
    "    * Run a t-test and store results\n",
    "    * Calculate current power \n",
    "    * Output current sample size and power calculated for inspection\n",
    "    * Store results: Sample size, power\n",
    "    * increase the sample size by 1 and repeat"
   ]
  },
  {
   "cell_type": "code",
   "execution_count": 54,
   "metadata": {},
   "outputs": [
    {
     "data": {
      "text/plain": [
       "(10000, 12, 2)"
      ]
     },
     "execution_count": 54,
     "metadata": {},
     "output_type": "execute_result"
    }
   ],
   "source": [
    "data = np.empty([n_sim, sample_size, 2])\n",
    "data.fill(np.nan)\n",
    "data.shape"
   ]
  },
  {
   "cell_type": "code",
   "execution_count": 55,
   "metadata": {},
   "outputs": [
    {
     "data": {
      "text/plain": [
       "array([[[nan, nan],\n",
       "        [nan, nan],\n",
       "        [nan, nan],\n",
       "        [nan, nan],\n",
       "        [nan, nan],\n",
       "        [nan, nan],\n",
       "        [nan, nan],\n",
       "        [nan, nan],\n",
       "        [nan, nan],\n",
       "        [nan, nan],\n",
       "        [nan, nan],\n",
       "        [nan, nan]],\n",
       "\n",
       "       [[nan, nan],\n",
       "        [nan, nan],\n",
       "        [nan, nan],\n",
       "        [nan, nan],\n",
       "        [nan, nan],\n",
       "        [nan, nan],\n",
       "        [nan, nan],\n",
       "        [nan, nan],\n",
       "        [nan, nan],\n",
       "        [nan, nan],\n",
       "        [nan, nan],\n",
       "        [nan, nan]]])"
      ]
     },
     "execution_count": 55,
     "metadata": {},
     "output_type": "execute_result"
    }
   ],
   "source": [
    "data[:2,:,:] \n",
    "# specify axis=1 (cols) to run test on because ea col is strl vs expr\n",
    "# don't want to compare means of each of the rows (axis=0)"
   ]
  },
  {
   "cell_type": "code",
   "execution_count": 56,
   "metadata": {},
   "outputs": [
    {
     "name": "stdout",
     "output_type": "stream",
     "text": [
      "Sample size = 12, Calculated power = 0.4754\n",
      "Sample size = 13, Calculated power = 0.5066\n",
      "Sample size = 14, Calculated power = 0.5423\n",
      "Sample size = 15, Calculated power = 0.5767\n",
      "Sample size = 16, Calculated power = 0.6038\n",
      "Sample size = 17, Calculated power = 0.6297\n",
      "Sample size = 18, Calculated power = 0.658\n",
      "Sample size = 19, Calculated power = 0.6783\n",
      "Sample size = 20, Calculated power = 0.7056\n",
      "Sample size = 21, Calculated power = 0.7266\n",
      "Sample size = 22, Calculated power = 0.7481\n",
      "Sample size = 23, Calculated power = 0.7624\n",
      "Sample size = 24, Calculated power = 0.7864\n",
      "Sample size = 25, Calculated power = 0.8031\n"
     ]
    }
   ],
   "source": [
    "np.random.seed(10)\n",
    "\n",
    "p = (np.empty(n_sim))\n",
    "p.fill(np.nan)\n",
    "\n",
    "power_sample = []\n",
    "target = 0.8\n",
    "\n",
    "# Keep iterating as shown above until desired power is obtained\n",
    "\n",
    "while power < target:\n",
    "    \n",
    "    # initiate empty array for data\n",
    "    # array holds n_sim number of arrays, ea of which are sample_size number of elements long\n",
    "    # and there are 2 cols of elements, one for ctrl and the other for expr\n",
    "    data = np.empty([n_sim, sample_size, 2])\n",
    "    data.fill(np.nan)\n",
    "    \n",
    "    # For control group \n",
    "    # Here we specify size=[n_sim, sample_size] which creates an array of n_sim number of arrays,\n",
    "    # each containing sample_size number of elements. \n",
    "    # This is equivalent to manually looping n_sim times like we did above but is much faster.\n",
    "    data[:,:,0] = np.random.normal(loc=control_mean, scale=control_sd, size=[n_sim, sample_size])\n",
    "    \n",
    "    # For experimental group\n",
    "    data[:,:,1] = np.random.normal(loc=experimental_mean, scale=experimental_sd, size=[n_sim, sample_size])\n",
    "    \n",
    "    # test ctrl vs expr means\n",
    "    res = stats.ttest_ind(data[:,:,0], data[:,:,1], axis=1)\n",
    "    \n",
    "    # store p-values from those tests\n",
    "    p_vals = res[1]\n",
    "    \n",
    "    # Since we know that all simulations are from a different distribution,\n",
    "    # all tests that rejected the null hypothesis are valid\n",
    "    power = np.sum(p_vals < 0.05) / n_sim\n",
    "    \n",
    "    #Output current sample size and power calculated for inspection\n",
    "    print('Sample size = {}, Calculated power = {}'.format(sample_size, power))\n",
    "    power_sample.append([sample_size, power])\n",
    "    \n",
    "    # increase the number of sample size by one for next loop to increase power towards target\n",
    "    sample_size += 1"
   ]
  },
  {
   "cell_type": "markdown",
   "metadata": {},
   "source": [
    "You can also plot the calculated power against sample size to visually inspect the effect of increasing sample size. "
   ]
  },
  {
   "cell_type": "code",
   "execution_count": 60,
   "metadata": {},
   "outputs": [
    {
     "data": {
      "text/plain": [
       "[[12, 0.4754], [13, 0.5066], [14, 0.5423], [15, 0.5767], [16, 0.6038]]"
      ]
     },
     "execution_count": 60,
     "metadata": {},
     "output_type": "execute_result"
    }
   ],
   "source": [
    "power_sample[:5]"
   ]
  },
  {
   "cell_type": "code",
   "execution_count": 61,
   "metadata": {},
   "outputs": [
    {
     "data": {
      "text/html": [
       "<div>\n",
       "<style scoped>\n",
       "    .dataframe tbody tr th:only-of-type {\n",
       "        vertical-align: middle;\n",
       "    }\n",
       "\n",
       "    .dataframe tbody tr th {\n",
       "        vertical-align: top;\n",
       "    }\n",
       "\n",
       "    .dataframe thead th {\n",
       "        text-align: right;\n",
       "    }\n",
       "</style>\n",
       "<table border=\"1\" class=\"dataframe\">\n",
       "  <thead>\n",
       "    <tr style=\"text-align: right;\">\n",
       "      <th></th>\n",
       "      <th>0</th>\n",
       "      <th>1</th>\n",
       "    </tr>\n",
       "  </thead>\n",
       "  <tbody>\n",
       "    <tr>\n",
       "      <th>0</th>\n",
       "      <td>12</td>\n",
       "      <td>0.4754</td>\n",
       "    </tr>\n",
       "    <tr>\n",
       "      <th>1</th>\n",
       "      <td>13</td>\n",
       "      <td>0.5066</td>\n",
       "    </tr>\n",
       "    <tr>\n",
       "      <th>2</th>\n",
       "      <td>14</td>\n",
       "      <td>0.5423</td>\n",
       "    </tr>\n",
       "    <tr>\n",
       "      <th>3</th>\n",
       "      <td>15</td>\n",
       "      <td>0.5767</td>\n",
       "    </tr>\n",
       "    <tr>\n",
       "      <th>4</th>\n",
       "      <td>16</td>\n",
       "      <td>0.6038</td>\n",
       "    </tr>\n",
       "  </tbody>\n",
       "</table>\n",
       "</div>"
      ],
      "text/plain": [
       "    0       1\n",
       "0  12  0.4754\n",
       "1  13  0.5066\n",
       "2  14  0.5423\n",
       "3  15  0.5767\n",
       "4  16  0.6038"
      ]
     },
     "execution_count": 61,
     "metadata": {},
     "output_type": "execute_result"
    }
   ],
   "source": [
    "df = pd.DataFrame(power_sample, index=None)\n",
    "df.head()"
   ]
  },
  {
   "cell_type": "code",
   "execution_count": 93,
   "metadata": {
    "scrolled": false
   },
   "outputs": [
    {
     "name": "stderr",
     "output_type": "stream",
     "text": [
      "/Users/maxsteele/opt/anaconda3/envs/learn-env/lib/python3.6/site-packages/ipykernel_launcher.py:11: UserWarning: FixedFormatter should only be used together with FixedLocator\n",
      "  # This is added back by InteractiveShellApp.init_path()\n",
      "/Users/maxsteele/opt/anaconda3/envs/learn-env/lib/python3.6/site-packages/ipykernel_launcher.py:12: UserWarning: FixedFormatter should only be used together with FixedLocator\n",
      "  if sys.path[0] == '':\n"
     ]
    },
    {
     "data": {
      "image/png": "[encoded data removed]",
      "text/plain": [
       "<Figure size 720x432 with 1 Axes>"
      ]
     },
     "metadata": {},
     "output_type": "display_data"
    }
   ],
   "source": [
    "# Plot a sample size X Power line graph \n",
    "plt.figure(figsize=(10, 6))\n",
    "ax = sns.lineplot(df[0], df[1])\n",
    "\n",
    "new_y_ticks = [round(tick, 2) for tick in ax.get_yticks()]\n",
    "new_y_ticks\n",
    "\n",
    "ax.set_title('Power vs Sample Size', weight='bold', fontsize=20)\n",
    "ax.set_xlabel('Sample Size', weight='bold', fontsize=16)\n",
    "ax.set_ylabel('Statistical Power', weight='bold', fontsize=16)\n",
    "ax.set_xticklabels(ax.get_xticks(), fontdict={'fontsize':12, 'fontweight':'bold'})\n",
    "ax.set_yticklabels(new_y_ticks, fontdict={'fontsize':12, 'fontweight':'bold'});"
   ]
  },
  {
   "cell_type": "markdown",
   "metadata": {},
   "source": [
    "This output indicates that in order to get the required power (80%) to detect a difference of 0.17, you would need a considerably higher number of patients. "
   ]
  },
  {
   "cell_type": "markdown",
   "metadata": {},
   "source": [
    "## BONUS: Investigating the relationship between Power, Sample Size, and Effect Size\n",
    "\n",
    "You've seen how to calculate power given alpha, sample size, and effect size. To further investigate this relationship, it is interesting to plot the relationship between power and sample size for various effect sizes. \n",
    "\n",
    "To do this, run multiple simulations for varying parameters. Then store the parameters and plot the resulting dataset. Specifically:\n",
    "\n",
    "1. Use a value of $\\alpha$ = 0.05 for all of your simulations\n",
    "2. Use the following effect sizes: [0.01, 0.05, 0.1, 0.15, 0.2, 0.3, 0.5]\n",
    "3. Use the sample sizes from 10 to 500\n",
    "4. For each effect size sample size combination, calculate the accompanying power\n",
    "5. Plot a line graph of the power vs sample size relationship. You should have 7 plots; one for each of the effect sizes listed above. All 7 plots can be on the same graph but should be labeled appropriately. Plot the power on the y-axis and sample size on the x-axis."
   ]
  },
  {
   "cell_type": "code",
   "execution_count": null,
   "metadata": {},
   "outputs": [],
   "source": []
  },
  {
   "cell_type": "markdown",
   "metadata": {},
   "source": [
    "## Summary\n",
    "\n",
    "In this lesson, you gained further practice with \"statistical power\" and how it can be used to analyze experimental design. You ran a simulation to determine the sample size that would provide a given value of power (for a given alpha and effect size). Running simulations like this, as well as further investigations regarding required sample sizes for higher power thresholds or smaller effect sizes is critical in designing meaningful experiments where one can be confident in the subsequent conclusions drawn."
   ]
  }
 ],
 "metadata": {
  "kernelspec": {
   "display_name": "learn-env",
   "language": "python",
   "name": "learn-env"
  },
  "language_info": {
   "codemirror_mode": {
    "name": "ipython",
    "version": 3
   },
   "file_extension": ".py",
   "mimetype": "text/x-python",
   "name": "python",
   "nbconvert_exporter": "python",
   "pygments_lexer": "ipython3",
   "version": "3.6.9"
  },
  "toc": {
   "base_numbering": 1,
   "nav_menu": {},
   "number_sections": true,
   "sideBar": true,
   "skip_h1_title": false,
   "title_cell": "Table of Contents",
   "title_sidebar": "Contents",
   "toc_cell": false,
   "toc_position": {},
   "toc_section_display": true,
   "toc_window_display": false
  },
  "varInspector": {
   "cols": {
    "lenName": 16,
    "lenType": 16,
    "lenVar": 40
   },
   "kernels_config": {
    "python": {
     "delete_cmd_postfix": "",
     "delete_cmd_prefix": "del ",
     "library": "var_list.py",
     "varRefreshCmd": "print(var_dic_list())"
    },
    "r": {
     "delete_cmd_postfix": ") ",
     "delete_cmd_prefix": "rm(",
     "library": "var_list.r",
     "varRefreshCmd": "cat(var_dic_list()) "
    }
   },
   "types_to_exclude": [
    "module",
    "function",
    "builtin_function_or_method",
    "instance",
    "_Feature"
   ],
   "window_display": false
  }
 },
 "nbformat": 4,
 "nbformat_minor": 2
}
